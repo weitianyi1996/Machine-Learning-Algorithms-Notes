{
 "cells": [
  {
   "cell_type": "code",
   "execution_count": 8,
   "metadata": {},
   "outputs": [
    {
     "name": "stdout",
     "output_type": "stream",
     "text": [
      "Collecting ipynbcompress\n",
      "  Downloading ipynbcompress-0.3.0-py2.py3-none-any.whl (6.6 kB)\n",
      "Collecting climate\n",
      "  Downloading climate-0.1.0-py3-none-any.whl (1.1 kB)\n",
      "Requirement already satisfied: ipython in /Users/weitianyi/opt/anaconda3/lib/python3.8/site-packages (from ipynbcompress) (7.19.0)\n",
      "Collecting hurry.filesize\n",
      "  Downloading hurry.filesize-0.9.tar.gz (2.8 kB)\n",
      "Requirement already satisfied: Pillow in /Users/weitianyi/opt/anaconda3/lib/python3.8/site-packages (from ipynbcompress) (8.0.1)\n",
      "Requirement already satisfied: jsonschema in /Users/weitianyi/opt/anaconda3/lib/python3.8/site-packages (from ipynbcompress) (3.2.0)\n",
      "Requirement already satisfied: traitlets>=4.2 in /Users/weitianyi/opt/anaconda3/lib/python3.8/site-packages (from ipython->ipynbcompress) (5.0.5)\n",
      "Requirement already satisfied: pickleshare in /Users/weitianyi/opt/anaconda3/lib/python3.8/site-packages (from ipython->ipynbcompress) (0.7.5)\n",
      "Requirement already satisfied: appnope; sys_platform == \"darwin\" in /Users/weitianyi/opt/anaconda3/lib/python3.8/site-packages (from ipython->ipynbcompress) (0.1.0)\n",
      "Requirement already satisfied: prompt-toolkit!=3.0.0,!=3.0.1,<3.1.0,>=2.0.0 in /Users/weitianyi/opt/anaconda3/lib/python3.8/site-packages (from ipython->ipynbcompress) (3.0.8)\n",
      "Requirement already satisfied: backcall in /Users/weitianyi/opt/anaconda3/lib/python3.8/site-packages (from ipython->ipynbcompress) (0.2.0)\n",
      "Requirement already satisfied: decorator in /Users/weitianyi/opt/anaconda3/lib/python3.8/site-packages (from ipython->ipynbcompress) (4.4.2)\n",
      "Requirement already satisfied: pexpect>4.3; sys_platform != \"win32\" in /Users/weitianyi/opt/anaconda3/lib/python3.8/site-packages (from ipython->ipynbcompress) (4.8.0)\n",
      "Requirement already satisfied: pygments in /Users/weitianyi/opt/anaconda3/lib/python3.8/site-packages (from ipython->ipynbcompress) (2.7.2)\n",
      "Requirement already satisfied: jedi>=0.10 in /Users/weitianyi/opt/anaconda3/lib/python3.8/site-packages (from ipython->ipynbcompress) (0.17.1)\n",
      "Requirement already satisfied: setuptools>=18.5 in /Users/weitianyi/opt/anaconda3/lib/python3.8/site-packages (from ipython->ipynbcompress) (50.3.1.post20201107)\n",
      "Requirement already satisfied: pyrsistent>=0.14.0 in /Users/weitianyi/opt/anaconda3/lib/python3.8/site-packages (from jsonschema->ipynbcompress) (0.17.3)\n",
      "Requirement already satisfied: attrs>=17.4.0 in /Users/weitianyi/opt/anaconda3/lib/python3.8/site-packages (from jsonschema->ipynbcompress) (20.3.0)\n",
      "Requirement already satisfied: six>=1.11.0 in /Users/weitianyi/opt/anaconda3/lib/python3.8/site-packages (from jsonschema->ipynbcompress) (1.15.0)\n",
      "Requirement already satisfied: ipython-genutils in /Users/weitianyi/opt/anaconda3/lib/python3.8/site-packages (from traitlets>=4.2->ipython->ipynbcompress) (0.2.0)\n",
      "Requirement already satisfied: wcwidth in /Users/weitianyi/opt/anaconda3/lib/python3.8/site-packages (from prompt-toolkit!=3.0.0,!=3.0.1,<3.1.0,>=2.0.0->ipython->ipynbcompress) (0.2.5)\n",
      "Requirement already satisfied: ptyprocess>=0.5 in /Users/weitianyi/opt/anaconda3/lib/python3.8/site-packages (from pexpect>4.3; sys_platform != \"win32\"->ipython->ipynbcompress) (0.6.0)\n",
      "Requirement already satisfied: parso<0.8.0,>=0.7.0 in /Users/weitianyi/opt/anaconda3/lib/python3.8/site-packages (from jedi>=0.10->ipython->ipynbcompress) (0.7.0)\n",
      "Building wheels for collected packages: hurry.filesize\n",
      "  Building wheel for hurry.filesize (setup.py) ... \u001b[?25ldone\n",
      "\u001b[?25h  Created wheel for hurry.filesize: filename=hurry.filesize-0.9-py3-none-any.whl size=4134 sha256=dcc96a7cd394d8fb8144100c25dc2244b3ad50e89163c0197d3e15f41cf0bdc0\n",
      "  Stored in directory: /Users/weitianyi/Library/Caches/pip/wheels/15/4b/2b/e1eaf7375b72542a9a3f3c3fa66b7098cc9e8048fe345deace\n",
      "Successfully built hurry.filesize\n",
      "Installing collected packages: climate, hurry.filesize, ipynbcompress\n",
      "Successfully installed climate-0.1.0 hurry.filesize-0.9 ipynbcompress-0.3.0\n",
      "Note: you may need to restart the kernel to use updated packages.\n"
     ]
    }
   ],
   "source": [
    "pip install ipynbcompress"
   ]
  },
  {
   "cell_type": "code",
   "execution_count": 2,
   "metadata": {},
   "outputs": [],
   "source": [
    "import os\n",
    "from ipynbcompress import compress"
   ]
  },
  {
   "cell_type": "code",
   "execution_count": 3,
   "metadata": {},
   "outputs": [
    {
     "ename": "RuntimeError",
     "evalue": "dictionary keys changed during iteration",
     "output_type": "error",
     "traceback": [
      "\u001b[0;31m---------------------------------------------------------------------------\u001b[0m",
      "\u001b[0;31mRuntimeError\u001b[0m                              Traceback (most recent call last)",
      "\u001b[0;32m<ipython-input-3-dcec34b3e80a>\u001b[0m in \u001b[0;36m<module>\u001b[0;34m\u001b[0m\n\u001b[1;32m      2\u001b[0m \u001b[0mout\u001b[0m \u001b[0;34m=\u001b[0m \u001b[0;34m'/Users/weitianyi/Desktop/ML-Notes/compressed-Coursera-ML-Notes.ipynb'\u001b[0m\u001b[0;34m\u001b[0m\u001b[0;34m\u001b[0m\u001b[0m\n\u001b[1;32m      3\u001b[0m \u001b[0;34m\u001b[0m\u001b[0m\n\u001b[0;32m----> 4\u001b[0;31m \u001b[0mcompress\u001b[0m\u001b[0;34m(\u001b[0m\u001b[0mfilename\u001b[0m\u001b[0;34m,\u001b[0m \u001b[0moutput_filename\u001b[0m\u001b[0;34m=\u001b[0m\u001b[0mout\u001b[0m\u001b[0;34m,\u001b[0m \u001b[0mimg_width\u001b[0m\u001b[0;34m=\u001b[0m\u001b[0;36m800\u001b[0m\u001b[0;34m,\u001b[0m \u001b[0mimg_format\u001b[0m\u001b[0;34m=\u001b[0m\u001b[0;34m'jpeg'\u001b[0m\u001b[0;34m)\u001b[0m\u001b[0;34m\u001b[0m\u001b[0;34m\u001b[0m\u001b[0m\n\u001b[0m\u001b[1;32m      5\u001b[0m \u001b[0mcompress\u001b[0m\u001b[0;34m(\u001b[0m\u001b[0mfilename\u001b[0m\u001b[0;34m)\u001b[0m\u001b[0;34m\u001b[0m\u001b[0;34m\u001b[0m\u001b[0m\n",
      "\u001b[0;32m~/opt/anaconda3/lib/python3.8/site-packages/ipynbcompress/ipynbcompress.py\u001b[0m in \u001b[0;36mcompress\u001b[0;34m(filename, output_filename, img_width, img_format)\u001b[0m\n\u001b[1;32m     42\u001b[0m             \u001b[0;32mcontinue\u001b[0m\u001b[0;34m\u001b[0m\u001b[0;34m\u001b[0m\u001b[0m\n\u001b[1;32m     43\u001b[0m         \u001b[0mkeys\u001b[0m \u001b[0;34m=\u001b[0m \u001b[0mdata\u001b[0m\u001b[0;34m.\u001b[0m\u001b[0mkeys\u001b[0m\u001b[0;34m(\u001b[0m\u001b[0;34m)\u001b[0m\u001b[0;34m\u001b[0m\u001b[0;34m\u001b[0m\u001b[0m\n\u001b[0;32m---> 44\u001b[0;31m         \u001b[0;32mfor\u001b[0m \u001b[0mkey\u001b[0m \u001b[0;32min\u001b[0m \u001b[0mkeys\u001b[0m\u001b[0;34m:\u001b[0m\u001b[0;34m\u001b[0m\u001b[0;34m\u001b[0m\u001b[0m\n\u001b[0m\u001b[1;32m     45\u001b[0m             \u001b[0;32mif\u001b[0m \u001b[0;34m'image'\u001b[0m \u001b[0;32min\u001b[0m \u001b[0mkey\u001b[0m\u001b[0;34m:\u001b[0m\u001b[0;34m\u001b[0m\u001b[0;34m\u001b[0m\u001b[0m\n\u001b[1;32m     46\u001b[0m                 \u001b[0mstring\u001b[0m \u001b[0;34m=\u001b[0m \u001b[0;34m''\u001b[0m\u001b[0;34m.\u001b[0m\u001b[0mjoin\u001b[0m\u001b[0;34m(\u001b[0m\u001b[0mdata\u001b[0m\u001b[0;34m[\u001b[0m\u001b[0mkey\u001b[0m\u001b[0;34m]\u001b[0m\u001b[0;34m)\u001b[0m\u001b[0;34m\u001b[0m\u001b[0;34m\u001b[0m\u001b[0m\n",
      "\u001b[0;31mRuntimeError\u001b[0m: dictionary keys changed during iteration"
     ]
    }
   ],
   "source": [
    "filename = '/Users/weitianyi/Desktop/ML-Notes/Coursera-ML-Notes.ipynb'\n",
    "out = '/Users/weitianyi/Desktop/ML-Notes/compressed-Coursera-ML-Notes.ipynb'\n",
    "\n",
    "compress(filename, output_filename=out, img_width=800, img_format='jpeg')\n",
    "compress(filename)"
   ]
  },
  {
   "cell_type": "code",
   "execution_count": 5,
   "metadata": {
    "scrolled": false
   },
   "outputs": [
    {
     "name": "stdout",
     "output_type": "stream",
     "text": [
      "0\n"
     ]
    },
    {
     "ename": "NameError",
     "evalue": "name 'Image' is not defined",
     "output_type": "error",
     "traceback": [
      "\u001b[0;31m---------------------------------------------------------------------------\u001b[0m",
      "\u001b[0;31mNameError\u001b[0m                                 Traceback (most recent call last)",
      "\u001b[0;32m<ipython-input-5-58975870d3b5>\u001b[0m in \u001b[0;36m<module>\u001b[0;34m\u001b[0m\n\u001b[1;32m      3\u001b[0m \u001b[0;32mfor\u001b[0m \u001b[0mi\u001b[0m \u001b[0;32min\u001b[0m \u001b[0mrange\u001b[0m\u001b[0;34m(\u001b[0m\u001b[0;36m0\u001b[0m\u001b[0;34m,\u001b[0m \u001b[0;36m9\u001b[0m\u001b[0;34m)\u001b[0m\u001b[0;34m:\u001b[0m\u001b[0;34m\u001b[0m\u001b[0;34m\u001b[0m\u001b[0m\n\u001b[1;32m      4\u001b[0m     \u001b[0mprint\u001b[0m\u001b[0;34m(\u001b[0m\u001b[0mi\u001b[0m\u001b[0;34m)\u001b[0m\u001b[0;34m\u001b[0m\u001b[0;34m\u001b[0m\u001b[0m\n\u001b[0;32m----> 5\u001b[0;31m     \u001b[0mdisplay\u001b[0m\u001b[0;34m(\u001b[0m\u001b[0mImage\u001b[0m\u001b[0;34m(\u001b[0m\u001b[0;34m\"/Users/weitianyi/Desktop/ML-Notes/IMG_39{}.jpeg\"\u001b[0m\u001b[0;34m.\u001b[0m\u001b[0mformat\u001b[0m\u001b[0;34m(\u001b[0m\u001b[0mn\u001b[0m\u001b[0;34m+\u001b[0m\u001b[0mi\u001b[0m\u001b[0;34m)\u001b[0m\u001b[0;34m)\u001b[0m\u001b[0;34m)\u001b[0m\u001b[0;34m\u001b[0m\u001b[0;34m\u001b[0m\u001b[0m\n\u001b[0m\u001b[1;32m      6\u001b[0m     \u001b[0mprint\u001b[0m\u001b[0;34m(\u001b[0m\u001b[0;34m\"\\n\"\u001b[0m\u001b[0;34m)\u001b[0m\u001b[0;34m\u001b[0m\u001b[0;34m\u001b[0m\u001b[0m\n",
      "\u001b[0;31mNameError\u001b[0m: name 'Image' is not defined"
     ]
    }
   ],
   "source": [
    "n = 40\n",
    "\n",
    "for i in range(0, 9):\n",
    "    print(i)\n",
    "    display(Image(\"/Users/weitianyi/Desktop/ML-Notes/IMG_39{}.jpeg\".format(n+i)))\n",
    "    print(\"\\n\")"
   ]
  }
 ],
 "metadata": {
  "kernelspec": {
   "display_name": "Python 3",
   "language": "python",
   "name": "python3"
  },
  "language_info": {
   "codemirror_mode": {
    "name": "ipython",
    "version": 3
   },
   "file_extension": ".py",
   "mimetype": "text/x-python",
   "name": "python",
   "nbconvert_exporter": "python",
   "pygments_lexer": "ipython3",
   "version": "3.8.5"
  }
 },
 "nbformat": 4,
 "nbformat_minor": 4
}
